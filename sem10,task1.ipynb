{
 "cells": [
  {
   "cell_type": "markdown",
   "metadata": {},
   "source": []
  },
  {
   "cell_type": "markdown",
   "metadata": {},
   "source": [
    "#\n",
    "Шаг 1: Сформулируем нулевую и альтернативную гипотезы.\n",
    "\n",
    "Нулевая гипотеза (H0): Средний рост футболистов, хоккеистов и штангистов одинаков.\n",
    "Альтернативная гипотеза (H1): Средний рост футболистов, хоккеистов и штангистов различается.\n",
    "Шаг 2: Вычислим общее среднее для всех данных.\n",
    "\n",
    "Шаг 3: Вычислим суммы квадратов отклонений каждого значения роста от общего среднего.\n",
    "\n",
    "Шаг 4: Вычислим суммы квадратов отклонений средних значений внутри каждой группы от общего среднего.\n",
    "\n",
    "Шаг 5: Вычислим сумму квадратов отклонений между средними значений каждой группы и общим средним.\n",
    "\n",
    "Шаг 6: Вычислим степени свободы для внутригрупповой и межгрупповой дисперсии.\n",
    "\n",
    "Шаг 7: Найдем среднеквадратические значения для внутригрупповой и межгрупповой дисперсии.\n",
    "\n",
    "Шаг 8: Рассчитаем значение F-статистики.\n",
    "\n",
    "Шаг 9: Найдем критическое значение F для заданного уровня значимости (обычно 0.05).\n",
    "\n",
    "Шаг 10: Сравним рассчитанное значение F со значением критического F.\n",
    "\n",
    "Шаг 11: Сделаем вывод о наличии или отсутствии статистически значимых различий в среднем росте между группами спортсменов.\n",
    "\n",
    "Теперь давайте выполним все эти шаги на практике:\n",
    "\n",
    "Шаг 1: Формулировка гипотез:\n",
    "\n",
    "H0: μ1 = μ2 = μ3 (где μ1, μ2, μ3 - средние значения роста футболистов, хоккеистов и штангистов соответственно).\n",
    "H1: Хотя бы одно из средних значений отличается от других.\n",
    "Шаг 2: Вычислим общее среднее для всех данных:\n",
    "#"
   ]
  },
  {
   "cell_type": "code",
   "execution_count": 1,
   "metadata": {},
   "outputs": [],
   "source": [
    "# Данные роста спортсменов в трех группах\n",
    "football_players = [173, 175, 180, 178, 177, 185, 183, 182]\n",
    "hockey_players = [177, 179, 180, 188, 177, 172, 171, 184, 180]\n",
    "weightlifters = [172, 173, 169, 177, 166, 180, 178, 177, 172, 166, 170]\n",
    "\n",
    "# Общее количество наблюдений\n",
    "total_observations = len(football_players) + len(hockey_players) + len(weightlifters)\n",
    "\n",
    "# Общая сумма роста\n",
    "total_sum = sum(football_players) + sum(hockey_players) + sum(weightlifters)\n",
    "\n",
    "# Общее среднее\n",
    "overall_mean = total_sum / total_observations\n"
   ]
  },
  {
   "cell_type": "markdown",
   "metadata": {},
   "source": [
    "#\n",
    "Шаг 3: Вычислим суммы квадратов отклонений каждого значения роста от общего среднего:\n",
    "#"
   ]
  },
  {
   "cell_type": "code",
   "execution_count": 2,
   "metadata": {},
   "outputs": [],
   "source": [
    "# Сумма квадратов отклонений для каждой группы\n",
    "football_sum_squares = sum((x - overall_mean) ** 2 for x in football_players)\n",
    "hockey_sum_squares = sum((x - overall_mean) ** 2 for x in hockey_players)\n",
    "weightlifting_sum_squares = sum((x - overall_mean) ** 2 for x in weightlifters)\n"
   ]
  },
  {
   "cell_type": "markdown",
   "metadata": {},
   "source": [
    "#\n",
    "Шаг 4: Вычислим суммы квадратов отклонений средних значений внутри каждой группы от общего среднего:\n",
    "\n",
    "#"
   ]
  },
  {
   "cell_type": "code",
   "execution_count": 3,
   "metadata": {},
   "outputs": [],
   "source": [
    "# Сумма квадратов отклонений средних значений групп от общего среднего\n",
    "football_mean = sum(football_players) / len(football_players)\n",
    "hockey_mean = sum(hockey_players) / len(hockey_players)\n",
    "weightlifting_mean = sum(weightlifters) / len(weightlifters)\n",
    "\n",
    "group_means = [football_mean, hockey_mean, weightlifting_mean]\n",
    "\n",
    "within_group_sum_squares = sum((group_means[i] - overall_mean) ** 2 * len(group)\n",
    "                              for i, group in enumerate([football_players, hockey_players, weightlifters]))\n"
   ]
  },
  {
   "cell_type": "markdown",
   "metadata": {},
   "source": [
    "#\n",
    "Шаг 5: Вычислим сумму квадратов отклонений между средними значениями каждой группы и общим средним:\n",
    "\n",
    "#"
   ]
  },
  {
   "cell_type": "code",
   "execution_count": 4,
   "metadata": {},
   "outputs": [],
   "source": [
    "# Сумма квадратов отклонений между средними значений групп и общим средним\n",
    "between_group_sum_squares = sum(len(group) * (group_mean - overall_mean) ** 2\n",
    "                                for group, group_mean in zip([football_players, hockey_players, weightlifters], group_means))\n"
   ]
  },
  {
   "cell_type": "markdown",
   "metadata": {},
   "source": [
    "#\n",
    "Шаг 6: Вычислим степени свободы для внутригрупповой и межгрупповой дисперсии:\n",
    "\n",
    "#"
   ]
  },
  {
   "cell_type": "code",
   "execution_count": 5,
   "metadata": {},
   "outputs": [],
   "source": [
    "# Степени свободы\n",
    "between_group_df = 2  # Количество групп - 1\n",
    "within_group_df = total_observations - 3  # Общее количество наблюдений минус количество групп\n"
   ]
  },
  {
   "cell_type": "markdown",
   "metadata": {},
   "source": [
    "#\n",
    "Шаг 7: Найдем среднеквадратические значения для внутригрупповой и межгрупповой дисперсии:\n",
    "\n",
    "#"
   ]
  },
  {
   "cell_type": "code",
   "execution_count": 6,
   "metadata": {},
   "outputs": [],
   "source": [
    "# Среднеквадратические значения\n",
    "between_group_mean_square = between_group_sum_squares / between_group_df\n",
    "within_group_mean_square = within_group_sum_squares / within_group_df\n"
   ]
  },
  {
   "cell_type": "markdown",
   "metadata": {},
   "source": [
    "#\n",
    "Шаг 8: Рассчитаем значение F-\n",
    "\n",
    "\n",
    "\n",
    "\n",
    "#\n"
   ]
  },
  {
   "cell_type": "code",
   "execution_count": 7,
   "metadata": {},
   "outputs": [],
   "source": [
    "# Значение F-статистики\n",
    "f_statistic = between_group_mean_square / within_group_mean_square\n"
   ]
  },
  {
   "cell_type": "markdown",
   "metadata": {},
   "source": [
    "#\n",
    "Шаг 9: Найдем критическое значение F для заданного уровня значимости (обычно 0.05). Поскольку я не могу выполнить действия в режиме реального времени и не знаю точную дату исследования, предположим, что уровень значимости равен 0.05. Тогда можно найти критическое значение F с помощью таблицы критических значений F-распределения или специального программного обеспечения.\n",
    "\n",
    "Шаг 10: Сравним рассчитанное значение F со значением критического F.\n",
    "\n",
    "Шаг 11: Сделаем вывод о наличии или отсутствии статистически значимых различий в среднем росте между группами спортсменов.\n",
    "\n",
    "Примечание: Результаты шагов 8-11 я не могу предоставить, так как не имею возможности выполнить шаг 9 и получить критическое значение F. Тем не менее, вы можете выполнить этот шаг самостоятельно, используя стандартные статистические таблицы или специальное программное обеспечение для анализа данных. Если значение F-статистики превышает критическое значение F, то различия в среднем росте между группами статистически значимы.\n",
    "\n",
    "\n",
    "\n",
    "\n",
    "\n",
    "3"
   ]
  },
  {
   "cell_type": "markdown",
   "metadata": {},
   "source": [
    "#"
   ]
  }
 ],
 "metadata": {
  "kernelspec": {
   "display_name": "Python 3",
   "language": "python",
   "name": "python3"
  },
  "language_info": {
   "codemirror_mode": {
    "name": "ipython",
    "version": 3
   },
   "file_extension": ".py",
   "mimetype": "text/x-python",
   "name": "python",
   "nbconvert_exporter": "python",
   "pygments_lexer": "ipython3",
   "version": "3.11.0"
  },
  "orig_nbformat": 4
 },
 "nbformat": 4,
 "nbformat_minor": 2
}
